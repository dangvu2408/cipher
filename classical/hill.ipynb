{
 "cells": [
  {
   "cell_type": "markdown",
   "id": "92a84b17",
   "metadata": {},
   "source": [
    "## <strong>CÁC HỆ MẬT CỔ ĐIỂN</strong>"
   ]
  },
  {
   "cell_type": "markdown",
   "id": "e921e121",
   "metadata": {},
   "source": [
    "### <strong>Hill Cipher</strong>\n",
    "\n",
    "Khóa $K$ là một ma trận vuông bậc m và tồn tại ma trận nghịch đảo nhân $K^{-1}$\n",
    "\n",
    "$\\text{Encrypt:} \\ C = (P * K) \\ \\text{mod} \\ 26 $ \n",
    "\n",
    "$\\text{Decrypt:} \\ P = (C * K^{-1}) \\ \\text{mod} \\ 26 $ "
   ]
  },
  {
   "cell_type": "code",
   "execution_count": 1,
   "id": "f36635a3",
   "metadata": {},
   "outputs": [
    {
     "name": "stdout",
     "output_type": "stream",
     "text": [
      "Plaintext: DAI HOC BACH KHOA HA NOI\n",
      "Ciphertext (Encrypted): APYQXSIHYDJZNSVOKPXAY\n",
      "Recovered Plaintext (Decrypted): DAIHOCBACHKHOAHANOIZZ\n"
     ]
    }
   ],
   "source": [
    "# HILL CIPHER\n",
    "\n",
    "import numpy as np\n",
    "\n",
    "def char_to_num(char):\n",
    "    return ord(char.upper()) - ord('A')\n",
    "\n",
    "def num_to_char(num):\n",
    "    return chr((num % 26) + ord('A'))\n",
    "\n",
    "def create_hill_key_matrix(key, n):\n",
    "    key = key.upper().replace(\" \", \"\")\n",
    "    key_nums = [char_to_num(char) for char in key]\n",
    "    if len(key_nums) < n * n:\n",
    "        raise ValueError(f\"Key quá ngắn, cần tối thiểu {n * n} ký tự.\")\n",
    "    key_matrix = np.array(key_nums[:n * n]).reshape(n, n)\n",
    "    det = int(np.round(np.linalg.det(key_matrix))) % 26\n",
    "    if det == 0 or np.gcd(det, 26) != 1:\n",
    "        raise ValueError(\"Khóa không khả nghịch. Đổi khóa khác.\")\n",
    "    return key_matrix\n",
    "\n",
    "def mod_matrix_inverse(matrix, mod):\n",
    "    det = int(np.round(np.linalg.det(matrix))) % mod\n",
    "    det_inverse = pow(det, -1, mod)  \n",
    "    adjugate = np.round(np.linalg.inv(matrix) * np.linalg.det(matrix)).astype(int)  \n",
    "    return (det_inverse * adjugate) % mod\n",
    "\n",
    "def hill_encrypt(plaintext, key, n):\n",
    "    plaintext = plaintext.upper().replace(\" \", \"\")\n",
    "    if len(plaintext) % n != 0:\n",
    "        plaintext += 'Z' * (n - len(plaintext) % n)  \n",
    "    \n",
    "    key_matrix = create_hill_key_matrix(key, n)\n",
    "    ciphertext = \"\"\n",
    "    for i in range(0, len(plaintext), n):\n",
    "        block = [char_to_num(char) for char in plaintext[i:i + n]]\n",
    "        encrypted_block = np.dot(key_matrix, block) % 26\n",
    "        ciphertext += ''.join(num_to_char(num) for num in encrypted_block)\n",
    "    return ciphertext\n",
    "\n",
    "def hill_decrypt(ciphertext, key, n):\n",
    "    key_matrix = create_hill_key_matrix(key, n)\n",
    "    key_inverse = mod_matrix_inverse(key_matrix, 26) \n",
    "    \n",
    "    plaintext = \"\"\n",
    "    for i in range(0, len(ciphertext), n):\n",
    "        block = [char_to_num(char) for char in ciphertext[i:i + n]]\n",
    "        decrypted_block = np.dot(key_inverse, block) % 26\n",
    "        plaintext += ''.join(num_to_char(num) for num in decrypted_block)\n",
    "    return plaintext\n",
    "\n",
    "plaintext = input(\"Nhập chuỗi: \")\n",
    "key = \"GYBNQKURP\"  \n",
    "n = 3 \n",
    "\n",
    "ciphertext = hill_encrypt(plaintext, key, n)\n",
    "print(f\"Plaintext: {plaintext}\")\n",
    "print(f\"Ciphertext (Encrypted): {ciphertext}\")\n",
    "\n",
    "recovered_plaintext = hill_decrypt(ciphertext, key, n)\n",
    "print(f\"Recovered Plaintext (Decrypted): {recovered_plaintext}\")"
   ]
  }
 ],
 "metadata": {
  "kernelspec": {
   "display_name": "Python 3",
   "language": "python",
   "name": "python3"
  },
  "language_info": {
   "codemirror_mode": {
    "name": "ipython",
    "version": 3
   },
   "file_extension": ".py",
   "mimetype": "text/x-python",
   "name": "python",
   "nbconvert_exporter": "python",
   "pygments_lexer": "ipython3",
   "version": "3.11.4"
  }
 },
 "nbformat": 4,
 "nbformat_minor": 5
}
