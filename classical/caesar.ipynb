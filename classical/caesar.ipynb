{
 "cells": [
  {
   "cell_type": "markdown",
   "id": "8b7727e3",
   "metadata": {},
   "source": [
    "## <strong>CÁC HỆ MẬT CỔ ĐIỂN</strong>"
   ]
  },
  {
   "cell_type": "markdown",
   "id": "112fc73b",
   "metadata": {},
   "source": [
    "### <strong>Caesar Cipher</strong>\n",
    "$\\text{Encrypt:} C = (P + K) \\ \\text{mod} \\ 26 $ </br>\n",
    "$\\text{Decrypt:} P = (C - K) \\ \\text{mod} \\ 26 $ \n",
    "\n",
    "Trong mật mã học, Caesar Cipher (Shift Cipher) là một trong những kỹ thuật mã hóa đơn giản và được biết đến rộng rãi nhất. Nó là một loại mật mã thay thế, trong đó mỗi chữ cái trong bản rõ được thay thế bằng một chữ cái, một số vị trí cố định xuống bảng chữ cái.\n",
    "\n",
    "Ví dụ, với dịch chuyển trái là 3, D sẽ được thay thế bằng A, E sẽ trở thành B, v.v. Phương pháp này được đặt theo tên của Julius Caesar, người đã sử dụng nó trong thư từ riêng của mình.\n",
    "\n",
    "Khi mã hóa, một người tra cứu từng chữ cái của tin nhắn trong dòng \"đơn giản\" và viết ra chữ cái tương ứng trong dòng \"mật mã\". Giải mã được thực hiện ngược lại, với sự dịch chuyển bên phải là 3.\n",
    "\n",
    "![Caesar Cipher K=3](../img/Caesar.png)\n"
   ]
  },
  {
   "cell_type": "code",
   "execution_count": 4,
   "id": "d89759f2",
   "metadata": {},
   "outputs": [
    {
     "name": "stdout",
     "output_type": "stream",
     "text": [
      "Plaintext: DAI HOC BACH KHOA HA NOI\n",
      "Ciphertext (Encrypted): GDL KRF EDFK NKRD KD QRL\n",
      "Recovered Plaintext (Decrypted): DAI HOC BACH KHOA HA NOI\n"
     ]
    }
   ],
   "source": [
    "# CAESAR CIPHER\n",
    "\n",
    "def caesar_encrypt(plaintext, key):\n",
    "    result = \"\"\n",
    "    for char in plaintext:\n",
    "        if 'A' <= char <= 'Z':  \n",
    "            result += chr((ord(char) + key - 65) % 26 + 65)\n",
    "        elif 'a' <= char <= 'z':  \n",
    "            result += chr((ord(char) + key - 97) % 26 + 97)\n",
    "        else:\n",
    "            result += char \n",
    "    return result\n",
    "\n",
    "def caesar_decrypt(ciphertext, key):\n",
    "    result = \"\"\n",
    "    for char in ciphertext:\n",
    "        if 'A' <= char <= 'Z':  \n",
    "            result += chr((ord(char) - key - 65) % 26 + 65)\n",
    "        elif 'a' <= char <= 'z':  \n",
    "            result += chr((ord(char) - key - 97) % 26 + 97)\n",
    "        else:\n",
    "            result += char  \n",
    "    return result\n",
    "\n",
    "plaintext = input(\"Nhập chuỗi: \")\n",
    "key = 3\n",
    "\n",
    "ciphertext = caesar_encrypt(plaintext, key)\n",
    "print(f\"Plaintext: {plaintext}\")\n",
    "print(f\"Ciphertext (Encrypted): {ciphertext}\")\n",
    "\n",
    "recovered_plaintext = caesar_decrypt(ciphertext, key)\n",
    "print(f\"Recovered Plaintext (Decrypted): {recovered_plaintext}\")"
   ]
  }
 ],
 "metadata": {
  "kernelspec": {
   "display_name": "Python 3",
   "language": "python",
   "name": "python3"
  },
  "language_info": {
   "codemirror_mode": {
    "name": "ipython",
    "version": 3
   },
   "file_extension": ".py",
   "mimetype": "text/x-python",
   "name": "python",
   "nbconvert_exporter": "python",
   "pygments_lexer": "ipython3",
   "version": "3.11.4"
  }
 },
 "nbformat": 4,
 "nbformat_minor": 5
}
