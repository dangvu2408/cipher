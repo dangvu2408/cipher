{
 "cells": [
  {
   "cell_type": "markdown",
   "id": "df02b285",
   "metadata": {},
   "source": [
    "## <strong>CÁC HỆ MẬT CỔ ĐIỂN</strong>"
   ]
  },
  {
   "cell_type": "markdown",
   "id": "753ab50c",
   "metadata": {},
   "source": [
    "### <strong>Vigenère Cipher</strong>\n",
    "$\\text{Plain text} \\ = P_1 P_2 P_3... $ \n",
    "\n",
    "$\\text{Cipher text} \\ = C_1 C_2 C_3... $ \n",
    "\n",
    "$\\text{Key stream} \\ = \\left[\\left(K_1, K_2, ..., K_m\\right), \\left(K_1, K_2, ..., K_m\\right), ...\\right] $ \n",
    "\n",
    "$\\text{Encrypt:} \\ C_i = (P_i + K_i) \\ \\text{mod} \\ 26 $ \n",
    "\n",
    "$\\text{Decrypt:} \\ P_i = (C_i - K_i) \\ \\text{mod} \\ 26 $ \n",
    "\n",
    "Mật mã Vigenère là một phương pháp mã hóa văn bản bằng cách sử dụng xen kẽ một số phép mã hóa Caesar khác nhau dựa trên các chữ cái của một từ khóa. Nó là một dạng đơn giản của mật mã thay thế dùng nhiều bảng chữ cái.\n",
    "\n",
    "Trong phép mã hóa Caesar, mỗi ký tự của bảng chữ cái được dịch đi một khoảng nhất định, ví dụ với bước dịch là 3, A trở thành D, B trở thành E... Mật mã Vigenère là sự kết hợp xen kẽ vài phép mã hóa Caesar với các bước dịch khác nhau.\n",
    " \n",
    "Để mã hóa, ta dùng một hình vuông Vigenère (hình dưới). Nó gồm 26 hàng, mỗi hàng dịch về bên trái một bước so với hàng phía trên, tạo thành 26 bảng mã Caesar. Trong quá trình mã hóa, tùy theo từ khóa mà mỗi thời điểm ta dùng một dòng khác nhau để mã hóa văn bản.\n",
    "\n",
    "![Vigenere Cipher](../img/Vigenere.jpg)\n",
    "\n",
    "Ví dụ, ta có:\n",
    "\n",
    "- Plaintext: VIGENERE\n",
    "- Người gửi lựa chọn một từ khóa và viết nó lặp lại nhiều lần trên một dòng đến khi số chữ cái trên dòng bằng số chữ cái trong thông điệp, với từ Key: \"LTMM\"\n",
    "- Với cùng số ký tự ta có \"LTMMLTMM\"\n",
    "- Chữ cái đầu tiên của văn bản, V, được mã hóa bằng bảng bắt đầu với L (chữ cái đầu tiên của từ khóa). Nó sẽ được mã hóa thành chữ cái trên dòng L và cột V của hình vuông Vigenère, đó là chữ L. Tương tự như vậy, chữ cái thứ hai của văn bản sẽ được mã hóa bằng chữ cái thứ hai của từ khóa: chữ trên dòng T và cột I là B. Sau đây là Ciphertext:\tGBSQYXDQ"
   ]
  },
  {
   "cell_type": "code",
   "execution_count": 1,
   "id": "bb13b4c9",
   "metadata": {},
   "outputs": [
    {
     "name": "stdout",
     "output_type": "stream",
     "text": [
      "Plaintext: DAI HOC BACH KHOA HA NOI\n",
      "Ciphertext (Encrypted): OTUTZVNMNAWTZTTMYHU\n",
      "Recovered Plaintext (Decrypted): DAIHOCBACHKHOAHANOI\n"
     ]
    }
   ],
   "source": [
    "# VIGENERE CIPHER\n",
    "\n",
    "def char_to_num(char):\n",
    "    return ord(char.upper()) - ord('A')\n",
    "\n",
    "def num_to_char(num):\n",
    "    return chr((num % 26) + ord('A'))\n",
    "\n",
    "def generate_key(plaintext, key):\n",
    "    key = key.upper().replace(\" \", \"\")\n",
    "    plaintext = plaintext.replace(\" \", \"\").upper()\n",
    "    repeated_key = (key * (len(plaintext) // len(key))) + key[:len(plaintext) % len(key)]\n",
    "    return repeated_key\n",
    "\n",
    "def vigenere_encrypt(plaintext, key):\n",
    "    plaintext = plaintext.upper().replace(\" \", \"\")\n",
    "    key = generate_key(plaintext, key)\n",
    "    ciphertext = \"\"\n",
    "    for p, k in zip(plaintext, key):\n",
    "        ciphertext += num_to_char((char_to_num(p) + char_to_num(k)) % 26)\n",
    "    return ciphertext\n",
    "\n",
    "def vigenere_decrypt(ciphertext, key):\n",
    "    ciphertext = ciphertext.upper().replace(\" \", \"\")\n",
    "    key = generate_key(ciphertext, key)\n",
    "    plaintext = \"\"\n",
    "    for c, k in zip(ciphertext, key):\n",
    "        plaintext += num_to_char((char_to_num(c) - char_to_num(k)) % 26)\n",
    "    return plaintext\n",
    "\n",
    "plaintext = input(\"Nhập chuỗi: \")\n",
    "key = \"LTMM\"\n",
    "\n",
    "ciphertext = vigenere_encrypt(plaintext, key)\n",
    "print(f\"Plaintext: {plaintext}\")\n",
    "print(f\"Ciphertext (Encrypted): {ciphertext}\")\n",
    "\n",
    "recovered_plaintext = vigenere_decrypt(ciphertext, key)\n",
    "print(f\"Recovered Plaintext (Decrypted): {recovered_plaintext}\")"
   ]
  }
 ],
 "metadata": {
  "kernelspec": {
   "display_name": "Python 3",
   "language": "python",
   "name": "python3"
  },
  "language_info": {
   "codemirror_mode": {
    "name": "ipython",
    "version": 3
   },
   "file_extension": ".py",
   "mimetype": "text/x-python",
   "name": "python",
   "nbconvert_exporter": "python",
   "pygments_lexer": "ipython3",
   "version": "3.11.4"
  }
 },
 "nbformat": 4,
 "nbformat_minor": 5
}
