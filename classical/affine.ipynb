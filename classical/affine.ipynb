{
 "cells": [
  {
   "cell_type": "markdown",
   "id": "6147f664",
   "metadata": {},
   "source": [
    "## <strong>CÁC HỆ MẬT CỔ ĐIỂN</strong>"
   ]
  },
  {
   "cell_type": "markdown",
   "id": "df676ef3",
   "metadata": {},
   "source": [
    "### <strong>Affine Cipher</strong>\n",
    "\n",
    "Sử dụng 2 khóa $K_1, K_2$.\n",
    "\n",
    "$\\text{Encrypt:} \\ C = (P * K_1 + K_2) \\ \\text{mod} \\ 26 $ \n",
    "\n",
    "$\\text{Decrypt:} \\ P = ((C - K_2) * K_1^{-1}) \\ \\text{mod} \\ 26 $ \n",
    "\n",
    "Mật mã Affine là một loại mật mã thay thế đơn chữ cái, trong đó mỗi chữ cái trong bảng chữ cái được lập trình bằng số tương đương, được mã hóa bằng một hàm toán học đơn giản và được chuyển đổi trở lại thành một chữ cái.\n",
    "\n",
    "Công thức của hệ mật Affine là 1 cặp khóa $k=\\{a, b\\}$ với điều kiện tiên quyết $UCLN(a, 26)=1$.\n",
    "\n",
    "Công thức mã hóa của hệ mật này là: $y = (a * x + b) \\ \\text{mod} \\ 26$\n",
    " \n",
    "Để giải mã được hệ mật này, trước hết ta cần tìm giá trị $a^{-1}$ thỏa mãn điều kiện $a * a^{-1} \\ \\text{mod} \\ = 1$.\n",
    "\n",
    "Sau đó áp dụng công thức giải mã hệ mật là: $x = a^{-1} * (y-b)$\n"
   ]
  },
  {
   "cell_type": "code",
   "execution_count": 1,
   "id": "b6787122",
   "metadata": {},
   "outputs": [
    {
     "name": "stdout",
     "output_type": "stream",
     "text": [
      "Plaintext: DAI HOC BACH KHOA HA NOI\n",
      "Ciphertext (Encrypted): OHR GFD SHDG NGFH GH UFR\n",
      "Recovered Plaintext (Decrypted): DAI HOC BACH KHOA HA NOI\n"
     ]
    }
   ],
   "source": [
    "# AFFINE CIPHER\n",
    "\n",
    "def mod_inverse(a, m):\n",
    "    for x in range(1, m):\n",
    "        if (a * x) % m == 1:\n",
    "            return x\n",
    "    return None  \n",
    "\n",
    "def affine_encrypt(plaintext, a, b):\n",
    "    result = \"\"\n",
    "    for char in plaintext:\n",
    "        if 'A' <= char <= 'Z':\n",
    "            result += chr(((a * (ord(char) - 65) + b) % 26) + 65)\n",
    "        elif 'a' <= char <= 'z':\n",
    "            result += chr(((a * (ord(char) - 97) + b) % 26) + 97)\n",
    "        else:\n",
    "            result += char\n",
    "    return result\n",
    "\n",
    "def affine_decrypt(ciphertext, a, b):\n",
    "    result = \"\"\n",
    "    a_inv = mod_inverse(a, 26) \n",
    "    if a_inv is None:\n",
    "        return \"Khóa không hợp lệ, không thể giải mã.\"\n",
    "\n",
    "    for char in ciphertext:\n",
    "        if 'A' <= char <= 'Z':\n",
    "            result += chr(((a_inv * (ord(char) - 65 - b)) % 26) + 65)\n",
    "        elif 'a' <= char <= 'z':\n",
    "            result += chr(((a_inv * (ord(char) - 97 - b)) % 26) + 97)\n",
    "        else:\n",
    "            result += char\n",
    "    return result\n",
    "\n",
    "plaintext = input(\"Nhập chuỗi: \")\n",
    "a = 11 \n",
    "b = 7\n",
    "\n",
    "ciphertext = affine_encrypt(plaintext, a, b)\n",
    "print(f\"Plaintext: {plaintext}\")\n",
    "print(f\"Ciphertext (Encrypted): {ciphertext}\")\n",
    "\n",
    "recovered_plaintext = affine_decrypt(ciphertext, a, b)\n",
    "print(f\"Recovered Plaintext (Decrypted): {recovered_plaintext}\")"
   ]
  }
 ],
 "metadata": {
  "kernelspec": {
   "display_name": "Python 3",
   "language": "python",
   "name": "python3"
  },
  "language_info": {
   "codemirror_mode": {
    "name": "ipython",
    "version": 3
   },
   "file_extension": ".py",
   "mimetype": "text/x-python",
   "name": "python",
   "nbconvert_exporter": "python",
   "pygments_lexer": "ipython3",
   "version": "3.11.4"
  }
 },
 "nbformat": 4,
 "nbformat_minor": 5
}
