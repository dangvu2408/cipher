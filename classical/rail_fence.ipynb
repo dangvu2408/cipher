{
 "cells": [
  {
   "cell_type": "markdown",
   "id": "d5a4bc0e",
   "metadata": {},
   "source": [
    "## <strong>CÁC HỆ MẬT CỔ ĐIỂN</strong>"
   ]
  },
  {
   "cell_type": "markdown",
   "id": "ce5c9ee2",
   "metadata": {},
   "source": [
    "### <strong>Rail Fence Cipher</strong>\n",
    "\n",
    "Rail Fence Cipher (hay còn gọi là Zigzag Cipher) là một dạng mã hóa chuyển vị. Tên của nó bắt nguồn từ cách mã hóa.\n",
    "\n",
    "<strong>Mã hóa</strong>\n",
    "\n",
    "Trong mã hóa chuyển vị, thứ tự các chữ cái được sắp xếp lại để thu được văn bản mã hóa.\n",
    "\n",
    "Rail Fence Ciphey, văn bản thuần túy được viết theo hướng xuống dưới và theo đường chéo trên các thanh ray liên tiếp của một hàng rào tưởng tượng.\n",
    "\n",
    "Khi chúng ta đến thanh ray dưới cùng, chúng ta di chuyển lên trên theo đường chéo, sau khi đến thanh ray trên cùng, hướng lại thay đổi. Do đó, các chữ cái của thông điệp được viết theo kiểu zic zac.\n",
    "\n",
    "Sau khi mỗi bảng chữ cái được viết xong, các hàng riêng lẻ sẽ được kết hợp lại để thu được văn bản mã hóa.\n",
    "\n",
    "<strong>Giải mã</strong>\n",
    "\n",
    "Chúng ta điền từng hàng văn bản mã hóa. Sau khi điền xong, chúng ta duyệt ma trận theo kiểu zic zac để có được văn bản gốc."
   ]
  },
  {
   "cell_type": "code",
   "execution_count": 1,
   "id": "f345695b",
   "metadata": {},
   "outputs": [
    {
     "name": "stdout",
     "output_type": "stream",
     "text": [
      "Plaintext: DAI HOC BACH KHOA HA NOI\n",
      "Ciphertext (Encrypted): DOCONAHCAHHAAOIBKHI\n",
      "Recovered Plaintext (Decrypted): DAIHOCBACHKHOAHANOI\n"
     ]
    }
   ],
   "source": [
    "#ZIGZAG CIPHER\n",
    "\n",
    "def zigzag_encrypt(plaintext, rails):\n",
    "    plaintext = plaintext.replace(\" \", \"\").upper()\n",
    "    rail = [[] for _ in range(rails)]\n",
    "    direction_down = False\n",
    "    row = 0\n",
    "\n",
    "    for char in plaintext:\n",
    "        rail[row].append(char)\n",
    "        if row == 0 or row == rails - 1:  \n",
    "            direction_down = not direction_down\n",
    "        row += 1 if direction_down else -1\n",
    "\n",
    "    ciphertext = \"\".join(\"\".join(r) for r in rail)\n",
    "    return ciphertext\n",
    "\n",
    "def zigzag_decrypt(ciphertext, rails):\n",
    "    ciphertext = ciphertext.replace(\" \", \"\").upper()\n",
    "    rail = [[] for _ in range(rails)]\n",
    "    length = len(ciphertext)\n",
    "\n",
    "    idx = 0\n",
    "    direction_down = False\n",
    "    row = 0\n",
    "    positions = [[] for _ in range(rails)]\n",
    "\n",
    "    for _ in range(length):\n",
    "        positions[row].append(idx)\n",
    "        idx += 1\n",
    "        if row == 0 or row == rails - 1:\n",
    "            direction_down = not direction_down\n",
    "        row += 1 if direction_down else -1\n",
    "\n",
    "    idx = 0\n",
    "    for r in range(rails):\n",
    "        for p in positions[r]:\n",
    "            rail[r].append(ciphertext[idx])\n",
    "            idx += 1\n",
    "\n",
    "    plaintext = []\n",
    "    direction_down = False\n",
    "    row = 0\n",
    "\n",
    "    for _ in range(length):\n",
    "        plaintext.append(rail[row].pop(0))\n",
    "        if row == 0 or row == rails - 1:\n",
    "            direction_down = not direction_down\n",
    "        row += 1 if direction_down else -1\n",
    "\n",
    "    return \"\".join(plaintext)\n",
    "\n",
    "plaintext = input(\"Nhập chuỗi: \")\n",
    "rails = 3\n",
    "\n",
    "ciphertext = zigzag_encrypt(plaintext, rails)\n",
    "print(f\"Plaintext: {plaintext}\")\n",
    "print(f\"Ciphertext (Encrypted): {ciphertext}\")\n",
    "\n",
    "recovered_plaintext = zigzag_decrypt(ciphertext, rails)\n",
    "print(f\"Recovered Plaintext (Decrypted): {recovered_plaintext}\")"
   ]
  }
 ],
 "metadata": {
  "kernelspec": {
   "display_name": "Python 3",
   "language": "python",
   "name": "python3"
  },
  "language_info": {
   "codemirror_mode": {
    "name": "ipython",
    "version": 3
   },
   "file_extension": ".py",
   "mimetype": "text/x-python",
   "name": "python",
   "nbconvert_exporter": "python",
   "pygments_lexer": "ipython3",
   "version": "3.11.4"
  }
 },
 "nbformat": 4,
 "nbformat_minor": 5
}
