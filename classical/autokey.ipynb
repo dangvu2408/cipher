{
 "cells": [
  {
   "cell_type": "markdown",
   "id": "ce1d8308",
   "metadata": {},
   "source": [
    "## <strong>CÁC HỆ MẬT CỔ ĐIỂN</strong>"
   ]
  },
  {
   "cell_type": "markdown",
   "id": "aa484721",
   "metadata": {},
   "source": [
    "### <strong>Autokey Cipher</strong>\n",
    "\n",
    "$\\text{Plain text} \\ = P_1 P_2 P_3... $ \n",
    "\n",
    "$\\text{Cipher text} \\ = C_1 C_2 C_3... $ \n",
    "\n",
    "$\\text{Key stream} \\ = \\left(K_1, K_2, ..., K_m, P_1, P_2 ...\\right)  $ \n",
    "\n",
    "$\\text{Encrypt:} \\ C_i = (P_i + K_i) \\ \\text{mod} \\ 26 $ \n",
    "\n",
    "$\\text{Decrypt:} \\ P_i = (C_i - K_i) \\ \\text{mod} \\ 26 $ \n",
    "\n",
    "Mật mã Autokey là một mật mã thay thế đa chữ cái sử dụng một từ khóa và một phần của chính bản rõ để tạo luồng khóa để mã hóa và giải mã. Được phát minh bởi Blaise de Vigenère vào năm 1586, nó liên quan chặt chẽ đến mật mã Vigenere nhưng sử dụng một phương pháp khác để tạo khóa.\n",
    "\n",
    "![Autokey Cipher](../img/Autokey.png)"
   ]
  },
  {
   "cell_type": "code",
   "execution_count": 1,
   "id": "1c748818",
   "metadata": {},
   "outputs": [
    {
     "name": "stdout",
     "output_type": "stream",
     "text": [
      "Plaintext: DAI HOC BACH KHOA HA NOI\n",
      "Ciphertext (Encrypted): FRGWHQEAKOYJPAJHXVW\n",
      "Recovered Plaintext (Decrypted): DAIHOCBACHKHOAHANOI\n"
     ]
    }
   ],
   "source": [
    "# AUTOKEY CIPHER\n",
    "\n",
    "def char_to_num(char):\n",
    "    return ord(char.upper()) - ord('A')\n",
    "\n",
    "def num_to_char(num):\n",
    "    return chr((num % 26) + ord('A'))\n",
    "\n",
    "def generate_autokey(plaintext, key):\n",
    "    key = key.upper().replace(\" \", \"\")\n",
    "    plaintext = plaintext.upper().replace(\" \", \"\")\n",
    "    autokey = key + plaintext  \n",
    "    return autokey[:len(plaintext)] \n",
    "\n",
    "def autokey_encrypt(plaintext, key):\n",
    "    plaintext = plaintext.upper().replace(\" \", \"\")\n",
    "    autokey = generate_autokey(plaintext, key)\n",
    "    ciphertext = \"\"\n",
    "    for p, k in zip(plaintext, autokey):\n",
    "        ciphertext += num_to_char((char_to_num(p) + char_to_num(k)) % 26)\n",
    "    return ciphertext\n",
    "\n",
    "def autokey_decrypt(ciphertext, key):\n",
    "    ciphertext = ciphertext.upper().replace(\" \", \"\")\n",
    "    key = key.upper().replace(\" \", \"\")\n",
    "    plaintext = \"\"\n",
    "    autokey = key\n",
    "    for c in ciphertext:\n",
    "        p = num_to_char((char_to_num(c) - char_to_num(autokey[0])) % 26)\n",
    "        plaintext += p\n",
    "        autokey += p  \n",
    "        autokey = autokey[1:]  \n",
    "    return plaintext\n",
    "\n",
    "plaintext = input(\"Nhập chuỗi: \")\n",
    "key = \"CRYPTO\"\n",
    "\n",
    "ciphertext = autokey_encrypt(plaintext, key)\n",
    "print(f\"Plaintext: {plaintext}\")\n",
    "print(f\"Ciphertext (Encrypted): {ciphertext}\")\n",
    "\n",
    "recovered_plaintext = autokey_decrypt(ciphertext, key)\n",
    "print(f\"Recovered Plaintext (Decrypted): {recovered_plaintext}\")"
   ]
  }
 ],
 "metadata": {
  "kernelspec": {
   "display_name": "Python 3",
   "language": "python",
   "name": "python3"
  },
  "language_info": {
   "codemirror_mode": {
    "name": "ipython",
    "version": 3
   },
   "file_extension": ".py",
   "mimetype": "text/x-python",
   "name": "python",
   "nbconvert_exporter": "python",
   "pygments_lexer": "ipython3",
   "version": "3.11.4"
  }
 },
 "nbformat": 4,
 "nbformat_minor": 5
}
