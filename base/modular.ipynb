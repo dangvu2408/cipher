{
 "cells": [
  {
   "cell_type": "markdown",
   "id": "7a088e98",
   "metadata": {},
   "source": [
    "## <strong>CƠ SỞ TOÁN HỌC CỦA LÝ THUYẾT MẬT MÃ</strong>"
   ]
  },
  {
   "cell_type": "markdown",
   "id": "2fa3c8b6",
   "metadata": {},
   "source": [
    "### <strong>Toán học modular cho số nguyên</strong>\n",
    "#### <strong>1. Tập hợp Z<sub>n</sub> - Số nguyên modulo n</strong> \n",
    "Ký hiệu: $\\mathbb{Z}_n = \\{0, 1, 2, ..., n - 1\\}$ là tập hợp các lớp đồng dư modulo $n$. Mỗi phần tử đại diện cho một lớp số nguyên mà đều có cùng dư khi chia cho $n$.\n",
    "#### <strong>2. Các phép toán trong Z<sub>n</sub></strong> \n",
    "Toán học modulo có đầy đủ các phép toán như cộng, trừ, nhân, và có điều kiện cho phép chia:\n",
    "\n",
    "- Cộng: $(a+b) \\ \\text{mod} \\ n$\n",
    "- Trừ: $(a-b) \\ \\text{mod} \\ n$\n",
    "- Nhân: $(a \\cdot b) \\ \\text{mod} \\ n$\n",
    "- Chia: $(a / b) \\ \\text{mod} \\ n$ chỉ khi tồn tại $b^{-1} (\\text{mod} \\ n)$, tức là phải có nghịch đảo nhân của $b$ trong $\\mathbb{Z}_n$.\n",
    "#### <strong>3. Nghịch đảo trong Z<sub>n</sub></strong> \n",
    "##### <strong>a. Nghịch đảo cộng</strong>\n",
    "Hai số $a, b$ được gọi là nghịch đảo cộng nếu $a + b \\equiv 0 (\\text{mod} \\ n) \\Rightarrow b \\equiv -a (\\text{mod} \\ n)$. \n",
    "\n",
    "Mỗi phần tử trong $\\mathbb{Z}_n$ đều có nghịch đảo cộng.\n",
    "##### <strong>b. Nghịch đảo nhân</strong>\n",
    "Số $b$ là nghịch đảo nhân của $a$ nếu $a \\cdot b \\equiv 1 \\ (\\text{mod} \\ n)$. Tồn tại khi và chỉ khi: $\\gcd(a, n) = 1$.\n",
    "\n",
    "Không phải mọi phần tử đều có nghịch đảo nhân trong $\\mathbb{Z}_n$, trừ khi $n$ là số nguyên tố. Khi đó ta dùng thuật toán Euclidean mở rộng để tìm nghịch đảo."
   ]
  }
 ],
 "metadata": {
  "language_info": {
   "name": "python"
  }
 },
 "nbformat": 4,
 "nbformat_minor": 5
}
