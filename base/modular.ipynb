{
 "cells": [
  {
   "cell_type": "markdown",
   "id": "7a088e98",
   "metadata": {},
   "source": [
    "## <strong>CƠ SỞ TOÁN HỌC CỦA LÝ THUYẾT MẬT MÃ</strong>"
   ]
  },
  {
   "cell_type": "markdown",
   "id": "2fa3c8b6",
   "metadata": {},
   "source": [
    "### <strong>Toán học modular cho số nguyên</strong>\n",
    "#### <strong>1. Tập hợp Z<sub>n</sub> - Số nguyên modulo n</strong> \n",
    "Ký hiệu: $\\mathbb{Z}_n = \\{0, 1, 2, ..., n - 1\\}$ là tập hợp các lớp đồng dư modulo $n$. Mỗi phần tử đại diện cho một lớp số nguyên mà đều có cùng dư khi chia cho $n$.\n",
    "#### <strong>2. Các phép toán trong Z<sub>n</sub></strong> \n",
    "Toán học modulo có đầy đủ các phép toán như cộng, trừ, nhân, và có điều kiện cho phép chia:\n",
    "\n",
    "- Cộng: $(a+b) \\ \\text{mod} \\ n$\n",
    "- Trừ: $(a-b) \\ \\text{mod} \\ n$\n",
    "- Nhân: $(a \\cdot b) \\ \\text{mod} \\ n$\n",
    "- Chia: $(a / b) \\ \\text{mod} \\ n$ chỉ khi tồn tại $b^{-1} (\\text{mod} \\ n)$, tức là phải có nghịch đảo nhân của $b$ trong $\\mathbb{Z}_n$.\n",
    "#### <strong>3. Nghịch đảo trong Z<sub>n</sub></strong> \n",
    "##### <strong>a. Nghịch đảo cộng</strong>\n",
    "Hai số $a, b$ được gọi là nghịch đảo cộng nếu $a + b \\equiv 0 (\\text{mod} \\ n) \\Rightarrow b \\equiv -a (\\text{mod} \\ n)$. \n",
    "\n",
    "Mỗi phần tử trong $\\mathbb{Z}_n$ đều có nghịch đảo cộng.\n",
    "##### <strong>b. Nghịch đảo nhân</strong>\n",
    "Số $b$ là nghịch đảo nhân của $a$ nếu $a \\cdot b \\equiv 1 \\ (\\text{mod} \\ n)$. Tồn tại khi và chỉ khi: $\\gcd(a, n) = 1$.\n",
    "\n",
    "Không phải mọi phần tử đều có nghịch đảo nhân trong $\\mathbb{Z}_n$, trừ khi $n$ là số nguyên tố. Khi đó ta dùng thuật toán Euclidean mở rộng để tìm nghịch đảo."
   ]
  },
  {
   "cell_type": "code",
   "execution_count": 1,
   "id": "df5d2e63",
   "metadata": {},
   "outputs": [
    {
     "name": "stdout",
     "output_type": "stream",
     "text": [
      "Step 1:\n",
      "  r1 = 26, r2 = 11\n",
      "  q = 2, r = 4\n",
      "  t1 = 0, t2 = 1, t = -2\n",
      "Step 2:\n",
      "  r1 = 11, r2 = 4\n",
      "  q = 2, r = 3\n",
      "  t1 = 1, t2 = -2, t = 5\n",
      "Step 3:\n",
      "  r1 = 4, r2 = 3\n",
      "  q = 1, r = 1\n",
      "  t1 = -2, t2 = 5, t = -7\n",
      "Step 4:\n",
      "  r1 = 3, r2 = 1\n",
      "  q = 3, r = 0\n",
      "  t1 = 5, t2 = -7, t = 26\n",
      "Step 5:\n",
      "  r1 = 1, r2 = 0\n",
      "  t1 = -7, t2 = 26\n",
      "\n",
      "Nghịch đảo nhân của 11 trong Z26 là 19\n",
      "\n",
      "Kiểm tra: (11 * 19) mod 26 = 209 mod 26 = 1\n"
     ]
    }
   ],
   "source": [
    "def modular(a, b):\n",
    "    r1, r2 = a, b\n",
    "    t1, t2 = 0, 1\n",
    "    step = 1\n",
    "    while r2 != 0:\n",
    "        q = r1 // r2\n",
    "        r = r1 % r2\n",
    "        t = t1 - q * t2\n",
    "\n",
    "        print(f\"Step {step}:\")\n",
    "        print(f\"  r1 = {r1}, r2 = {r2}\")\n",
    "        print(f\"  q = {q}, r = {r}\")\n",
    "        print(f\"  t1 = {t1}, t2 = {t2}, t = {t}\")\n",
    "\n",
    "        r1, r2 = r2, r\n",
    "        t1, t2 = t2, t\n",
    "        \n",
    "        step += 1\n",
    "\n",
    "    print(f\"Step {step}:\")\n",
    "    print(f\"  r1 = {r1}, r2 = {r2}\") \n",
    "    print(f\"  t1 = {t1}, t2 = {t2}\") \n",
    "\n",
    "    return r1, t1 \n",
    "\n",
    "def mod_inverse(a, b):\n",
    "    gcd, x = modular(a, b)\n",
    "    if gcd != 1:\n",
    "        return None \n",
    "    else:\n",
    "        return (x + a) % a  \n",
    "\n",
    "a = int(input(\"Nhập số nguyên a (Za): \"))\n",
    "b = int(input(\"Nhập số nguyên b: \"))\n",
    "\n",
    "inverse = mod_inverse(a, b)\n",
    "result = (b * inverse) % a\n",
    "\n",
    "if inverse is not None:\n",
    "    print(f\"\\nNghịch đảo nhân của {b} trong Z{a} là {inverse}\")\n",
    "    print(f\"\\nKiểm tra: ({b} * {inverse}) mod {a} = {b * inverse} mod {a} = {result}\")\n",
    "else:\n",
    "    print(f\"{a} không có nghịch đảo nhân modulo {b}\")"
   ]
  },
  {
   "cell_type": "markdown",
   "id": "78f31271",
   "metadata": {},
   "source": [
    "### <strong>Toán học modular cho ma trận</strong>\n",
    "- Ma trận $A$ và ma trận $B$ là nghịch đảo cộng của nhau nếu $A + B = 0 (\\text{mod} n)$.\n",
    "- Ma trận $A$ và ma trận $B$ là nghịch đảo nhân của nhau nếu $A \\cdot B = B \\cdot A = 1 (\\text{mod} n)$.\n",
    "- Điều kiện để một ma trận có ma trận nghịch đảo nhân là $\\gcd[\\det(A),n] = 1$."
   ]
  },
  {
   "cell_type": "code",
   "execution_count": 6,
   "id": "fefcb866",
   "metadata": {},
   "outputs": [
    {
     "name": "stdout",
     "output_type": "stream",
     "text": [
      "Ma trận A:\n",
      "[[20 11]\n",
      " [23 24]]\n",
      "\n",
      "Ma trận nghịch đảo của A modulo 26 là:\n",
      "[[ 4  9]\n",
      " [ 7 12]]\n"
     ]
    }
   ],
   "source": [
    "import numpy as np\n",
    "\n",
    "def determinant(A):\n",
    "    return A[0, 0] * A[1, 1] - A[0, 1] * A[1, 0]\n",
    "\n",
    "def mod_inverse(a, m):\n",
    "    x, y, g = extended_euclid(a, m)\n",
    "    if g != 1:\n",
    "        return None \n",
    "    return x % m\n",
    "\n",
    "def extended_euclid(a, b):\n",
    "    if b == 0:\n",
    "        return 1, 0, a\n",
    "    x1, y1, g = extended_euclid(b, a % b)\n",
    "    x = y1\n",
    "    y = x1 - (a // b) * y1\n",
    "    return x, y, g\n",
    "\n",
    "def matrix_inverse_mod(A, m):\n",
    "    det_A = determinant(A)\n",
    "    det_inv = mod_inverse(det_A, m)\n",
    "    \n",
    "    if det_inv is None:\n",
    "        raise ValueError(\"Ma trận không có nghịch đảo (determinant = 0 mod m).\")\n",
    "    \n",
    "    adj_A = np.array([[A[1, 1], -A[0, 1]], [-A[1, 0], A[0, 0]]])\n",
    "    \n",
    "    A_inv_mod = (det_inv * adj_A) % m\n",
    "    return A_inv_mod\n",
    "\n",
    "A = np.array([[20, 11], [23, 24]])\n",
    "m = 26\n",
    "\n",
    "print(\"Ma trận A:\")\n",
    "print(A)\n",
    "\n",
    "try:\n",
    "    A_inv_mod = matrix_inverse_mod(A, m)\n",
    "    print(\"\\nMa trận nghịch đảo của A modulo 26 là:\")\n",
    "    print(A_inv_mod)\n",
    "except ValueError as e:\n",
    "    print(e)"
   ]
  }
 ],
 "metadata": {
  "kernelspec": {
   "display_name": "Python 3",
   "language": "python",
   "name": "python3"
  },
  "language_info": {
   "codemirror_mode": {
    "name": "ipython",
    "version": 3
   },
   "file_extension": ".py",
   "mimetype": "text/x-python",
   "name": "python",
   "nbconvert_exporter": "python",
   "pygments_lexer": "ipython3",
   "version": "3.11.4"
  }
 },
 "nbformat": 4,
 "nbformat_minor": 5
}
