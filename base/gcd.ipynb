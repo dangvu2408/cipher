{
 "cells": [
  {
   "cell_type": "markdown",
   "id": "d0de7a9a",
   "metadata": {},
   "source": [
    "## <strong>CƠ SỞ TOÁN HỌC CỦA LÝ THUYẾT MẬT MÃ</strong>"
   ]
  },
  {
   "cell_type": "markdown",
   "id": "b64b276c",
   "metadata": {},
   "source": [
    "### <strong>Ước số chung lớn nhất</strong> </br>\n",
    "Ước số chung lớn nhất của hai số nguyên (Greatest Common Divisor - GCD) $a$ và $b$, ký hiệu là $gcd(a, b)$, là số nguyên dương lớn nhất mà $a$ và $b$ đều chia hết\n",
    "### <strong>Thuật toán Euclidean cổ điển</strong> </br>\n",
    "Dựa trên tính chất sau: $gcd(a, b) = gcd(b, a\\mod b)$\n",
    "\n",
    "Lặp lại phép tính đó cho đến khi phần dư là 0. Khi đó, $gcd(a,0)=a$ chính là kết quả.\n",
    "\n",
    "Mã giả:"
   ]
  },
  {
   "cell_type": "code",
   "execution_count": null,
   "id": "6e0766ef",
   "metadata": {},
   "outputs": [],
   "source": [
    "Hàm gcd(a, b):\n",
    "    Trong khi b != 0:\n",
    "        tạm = b\n",
    "        b = a mod b\n",
    "        a = tạm\n",
    "    Trả về a"
   ]
  },
  {
   "cell_type": "code",
   "execution_count": 4,
   "id": "1e07c5ae",
   "metadata": {},
   "outputs": [
    {
     "name": "stdout",
     "output_type": "stream",
     "text": [
      "Ước chung lớn nhất của 56 và 72 là: 8\n"
     ]
    }
   ],
   "source": [
    "def gcd(a, b):\n",
    "    while b != 0:\n",
    "        a, b = b, a % b\n",
    "    return a\n",
    "\n",
    "a = int(input(\"Nhập số nguyên dương a: \"))\n",
    "b = int(input(\"Nhập số nguyên dương b: \"))\n",
    "\n",
    "n = gcd(a, b)\n",
    "\n",
    "print(f\"Ước chung lớn nhất của {a} và {b} là: {n}\")"
   ]
  },
  {
   "cell_type": "markdown",
   "id": "caff93da",
   "metadata": {},
   "source": [
    "### <strong>Thuật toán Euclidean mở rộng</strong> </br>\n",
    "Tìm các hệ số nguyên `s`, `t` sao cho: $\\gcd(a, b) = s \\cdot a + t \\cdot b$\n",
    "\n",
    "**Bước 1 - Khởi tạo:**\n",
    "\n",
    "\\begin{align*}\n",
    "    r_1 &= a \\\\\n",
    "    r_2 &= b \\\\\n",
    "    s_1 &= 1,\\quad s_2 = 0 \\\\\n",
    "    t_1 &= 0,\\quad t_2 = 1\n",
    "\\end{align*}\n",
    "\n",
    "**Bước 2 - Lặp cho đến khi $r_2 = 0$:**\n",
    "\n",
    "\\begin{align*}\n",
    "    q &= \\left\\lfloor \\frac{r_1}{r_2} \\right\\rfloor \\\\\n",
    "    r &= r_1 \\bmod r_2 \\\\\n",
    "    s &= s_1 - q \\cdot s_2 \\\\\n",
    "    t &= t_1 - q \\cdot t_2\n",
    "\\end{align*}\n",
    "\n",
    "**Cập nhật:**\n",
    "\n",
    "\\begin{align*}\n",
    "    r_1, r_2 &= r_2, r \\\\\n",
    "    s_1, s_2 &= s_2, s \\\\\n",
    "    t_1, t_2 &= t_2, t\n",
    "\\end{align*}\n",
    "\n",
    "**Bước 3 - Kết thúc:**\n",
    "\n",
    "Khi $r_2 = 0$, ta có:\n",
    "\n",
    "- $\\gcd(a, b) = r_1$\n",
    "- Hệ số Bézout: $s = s_1, t = t_1$, thỏa mãn: $\\gcd(a, b) = s \\cdot a + t \\cdot b$\n"
   ]
  },
  {
   "cell_type": "code",
   "execution_count": 5,
   "id": "d8ae2359",
   "metadata": {},
   "outputs": [
    {
     "name": "stdout",
     "output_type": "stream",
     "text": [
      "gcd(56, 72) = 8\n",
      "8 = 4*56 + -3*72\n"
     ]
    }
   ],
   "source": [
    "def extended_gcd(a, b):\n",
    "    r1, r2 = a, b\n",
    "    s1, s2 = 1, 0\n",
    "    t1, t2 = 0, 1\n",
    "\n",
    "    while r2 != 0:\n",
    "        q = r1 // r2\n",
    "        r = r1 % r2\n",
    "        s = s1 - q * s2\n",
    "        t = t1 - q * t2\n",
    "\n",
    "        r1, r2 = r2, r\n",
    "        s1, s2 = s2, s\n",
    "        t1, t2 = t2, t\n",
    "\n",
    "    return r1, s1, t1  \n",
    "\n",
    "a = int(input(\"Nhập số nguyên dương a: \"))\n",
    "b = int(input(\"Nhập số nguyên dương b: \"))\n",
    "\n",
    "gcd, s, t = extended_gcd(a, b)\n",
    "print(f\"gcd({a}, {b}) = {gcd}\")\n",
    "print(f\"{gcd} = {s}*{a} + {t}*{b}\")\n",
    "\n"
   ]
  }
 ],
 "metadata": {
  "kernelspec": {
   "display_name": "Python 3",
   "language": "python",
   "name": "python3"
  },
  "language_info": {
   "codemirror_mode": {
    "name": "ipython",
    "version": 3
   },
   "file_extension": ".py",
   "mimetype": "text/x-python",
   "name": "python",
   "nbconvert_exporter": "python",
   "pygments_lexer": "ipython3",
   "version": "3.11.4"
  }
 },
 "nbformat": 4,
 "nbformat_minor": 5
}
