{
 "cells": [
  {
   "cell_type": "markdown",
   "id": "38fdd509",
   "metadata": {},
   "source": [
    "## <strong>CƠ SỞ TOÁN HỌC CỦA LÝ THUYẾT MẬT MÃ</strong>"
   ]
  },
  {
   "cell_type": "markdown",
   "id": "3fa80708",
   "metadata": {},
   "source": [
    "### <strong>Đồng dư</strong> </br>\n",
    "Trong số học, đặc biệt là số học modulo, đồng dư là một quan hệ giữa hai số nguyên khi chúng cho cùng một số dư khi chia cho một số nguyên dương nào đó. Hai số nguyên $a$ và $b$ được gọi là đồng dư modulo $n$ (với $n$ là một số nguyên dương) nếu hiệu của chúng chia hết cho $n$, tức là:\n",
    "$$ a \\equiv b \\ (\\text{mod} \\ n) \\Leftrightarrow n | (a - b)$$"
   ]
  },
  {
   "cell_type": "code",
   "execution_count": 5,
   "id": "8e183bc1",
   "metadata": {},
   "outputs": [
    {
     "name": "stdout",
     "output_type": "stream",
     "text": [
      "12 ≡ -6 (mod 18)\n"
     ]
    }
   ],
   "source": [
    "def is_congruence(a, b, n):\n",
    "    if n <= 0:\n",
    "        return \"Modulo n phải lớn hơn 0\"\n",
    "    return (a - b) % n == 0\n",
    "\n",
    "a = int(input(\"Nhập số nguyên a: \"))\n",
    "b = int(input(\"Nhập số nguyên b: \"))\n",
    "n = int(input(\"Nhập số modulo n: \"))\n",
    "\n",
    "if is_congruence(a, b, n):\n",
    "    print(f\"{a} ≡ {b} (mod {n})\")\n",
    "else:\n",
    "    print(f\"{a} không đồng dư với {b} (mod {n})\")"
   ]
  }
 ],
 "metadata": {
  "kernelspec": {
   "display_name": "Python 3",
   "language": "python",
   "name": "python3"
  },
  "language_info": {
   "codemirror_mode": {
    "name": "ipython",
    "version": 3
   },
   "file_extension": ".py",
   "mimetype": "text/x-python",
   "name": "python",
   "nbconvert_exporter": "python",
   "pygments_lexer": "ipython3",
   "version": "3.11.4"
  }
 },
 "nbformat": 4,
 "nbformat_minor": 5
}
