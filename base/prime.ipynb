{
 "cells": [
  {
   "cell_type": "markdown",
   "id": "babdf4c8",
   "metadata": {},
   "source": [
    "## <strong>CƠ SỞ TOÁN HỌC CỦA LÝ THUYẾT MẬT MÃ</strong>"
   ]
  },
  {
   "cell_type": "markdown",
   "id": "1a9b62a6",
   "metadata": {},
   "source": [
    "### <strong>Phân tích một số thành các thừa số nguyên tố</strong>"
   ]
  },
  {
   "cell_type": "code",
   "execution_count": 5,
   "id": "0f104dd0",
   "metadata": {},
   "outputs": [
    {
     "name": "stdout",
     "output_type": "stream",
     "text": [
      "Thừa số nguyên tố của 480 là: [2, 2, 2, 2, 2, 3, 5]\n"
     ]
    }
   ],
   "source": [
    "def is_prime(a):\n",
    "    if a < 2:\n",
    "        return False\n",
    "    for i in range(2, int(a ** 0.5) + 1):\n",
    "        if a % i == 0:\n",
    "            return False\n",
    "    return True\n",
    "\n",
    "def prime_factor(n):\n",
    "    factors = []\n",
    "    divisor = 2\n",
    "    while n > 1:\n",
    "        if n % divisor == 0:\n",
    "            factors.append(divisor)\n",
    "            n //= divisor\n",
    "        else:\n",
    "            divisor += 1\n",
    "            while not is_prime(divisor):\n",
    "                divisor += 1\n",
    "    return factors\n",
    "\n",
    "n = int(input(\"Nhập số nguyên dương n: \"))\n",
    "\n",
    "if n > 1:\n",
    "    factors = prime_factor(n)\n",
    "    print(f\"Thừa số nguyên tố của {n} là: {factors}\")\n",
    "else:\n",
    "    print(\"Nhập số lớn hơn 1!\")"
   ]
  }
 ],
 "metadata": {
  "kernelspec": {
   "display_name": "Python 3",
   "language": "python",
   "name": "python3"
  },
  "language_info": {
   "codemirror_mode": {
    "name": "ipython",
    "version": 3
   },
   "file_extension": ".py",
   "mimetype": "text/x-python",
   "name": "python",
   "nbconvert_exporter": "python",
   "pygments_lexer": "ipython3",
   "version": "3.11.4"
  }
 },
 "nbformat": 4,
 "nbformat_minor": 5
}
