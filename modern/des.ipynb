{
 "cells": [
  {
   "cell_type": "markdown",
   "id": "9d72dc83",
   "metadata": {},
   "source": [
    "## <strong>CÁC HỆ MẬT HIỆN ĐẠI</strong>"
   ]
  },
  {
   "cell_type": "markdown",
   "id": "5418e1e5",
   "metadata": {},
   "source": [
    "### <strong>DES</strong>\n",
    "\n",
    "DES (Data Encryption Standard) là chuẩn mã hóa dữ liệu đầu tiên trên thế giới, do Cơ quan an ninh Quốc gia Hoa Kỳ (NSA) đề xuất trên cơ sở cải tiến thuật toán Lucifer do hãng IBM công bố năm 1964. DES đã được sử dụng rộng rãi ở Hoa Kỳ và nhiều quốc gia khác trong các thập kỷ 70, 80, 90 cho đến khi được thay thế bởi Tiêu chuẩn mã hóa dữ liệu tiên tiến AES (Advanced Encryption Standard) vào năm 2002.\n",
    "\n",
    "DES là một mã khối, chỉ ra như hình dưới đây\n",
    "\n",
    "![Caesar Cipher K=3](../img/des_fig1.png)\n",
    "\n",
    "Đầu vào của DES là khối 64 bit, đầu ra cũng là khối 64 bit. Khóa mã hóa có độ dài 56 bit, nhưng thực chất ban đầu là 64 bit, được lấy đi các bit ở vị trí chia hết cho 8 dùng để kiểm tra tính chẵn lẻ.\n",
    "\n",
    "Quá trình mã hóa được tạo thành bởi 2 phép hoán vị P - box, đây là những phép hoán vị khởi tạo và kết thúc, và gồm 16 chu kỳ (vòng) Feistel"
   ]
  }
 ],
 "metadata": {
  "language_info": {
   "name": "python"
  }
 },
 "nbformat": 4,
 "nbformat_minor": 5
}
