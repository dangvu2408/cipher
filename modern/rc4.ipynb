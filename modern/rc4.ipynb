{
 "cells": [
  {
   "cell_type": "markdown",
   "id": "e4c80359",
   "metadata": {},
   "source": [
    "## <strong>CÁC HỆ MẬT HIỆN ĐẠI</strong>"
   ]
  },
  {
   "cell_type": "markdown",
   "id": "fd79e37e",
   "metadata": {},
   "source": [
    "### <strong>RC4</strong>\n",
    "\n",
    "RC4 (Rivest Cipher 4) là một thuật toán mã hóa dòng (stream cipher) được thiết kế bởi Ron Rivest vào năm 1987 cho RSA Security. Nó từng rất phổ biến nhờ vào sự đơn giản, tốc độ nhanh và dễ cài đặt, đặc biệt trong các ứng dụng như SSL/TLS, WEP, WPA, Microsoft Office, PDF, SSH v.v. Tuy nhiên, RC4 hiện không còn được xem là an toàn do các lỗ hổng nghiêm trọng đã được phát hiện.\n",
    "\n",
    "RC4 hoạt động theo nguyên tắc mã hóa dòng: tạo ra một dãy byte giả ngẫu nhiên gọi là keystream, sau đó XOR từng byte với dữ liệu gốc (plaintext) để tạo thành ciphertext.\n",
    "\n",
    "<strong>RC4 đơn giản hóa</strong>\n",
    "\n",
    "- Đơn giản hóa thuật toán bằng cách sử dụng vector trạng thái 8x3-bits thay vì 256 bytes.\n",
    "    \n",
    "Khởi tạo các vector:\n",
    "\n",
    "- Vector trạng thái `S = [0 1 2 3 4 5 6 7]`\n",
    "- Khởi tạo Key và Plaintext Nx3-bits, ví dụ lấy 4x3-bits.\n",
    "- `K = [1 3 5 7]`<br>`P = [2 3 4 5]`.\n",
    "\n",
    "Gồm 2 giai đoạn chính:\n",
    "\n",
    "<i>a. Key Scheduling Algorithm (KSA) - Khởi tạo </i>\n",
    "\n",
    "Nhận đầu vào là khóa bí mật `K` (độ dài từ 40 đến 256 bit).\n",
    "\n",
    "Khởi tạo một mảng `S[0..255]` chứa giá trị từ `0` đến `255`.\n",
    "\n",
    "Trộn mảng `S` theo khóa `K` để chuẩn bị cho quá trình tạo keystream."
   ]
  },
  {
   "cell_type": "code",
   "execution_count": 1,
   "id": "f4e37b5e",
   "metadata": {},
   "outputs": [
    {
     "name": "stdout",
     "output_type": "stream",
     "text": [
      "Khóa:  [1, 3, 5, 7]\n",
      "Plaintext:  [2, 3, 4, 5]\n",
      "Vector trạng thái ban đầu: [0, 1, 2, 3, 4, 5, 6, 7]\n",
      "\n",
      "Tại i = 0 , j = 1\n",
      "S = [1, 0, 2, 3, 4, 5, 6, 7]\n",
      "\n",
      "Tại i = 1 , j = 4\n",
      "S = [1, 4, 2, 3, 0, 5, 6, 7]\n",
      "\n",
      "Tại i = 2 , j = 3\n",
      "S = [1, 4, 3, 2, 0, 5, 6, 7]\n",
      "\n",
      "Tại i = 3 , j = 4\n",
      "S = [1, 4, 3, 0, 2, 5, 6, 7]\n",
      "\n",
      "Tại i = 4 , j = 7\n",
      "S = [1, 4, 3, 0, 7, 5, 6, 2]\n",
      "\n",
      "Tại i = 5 , j = 7\n",
      "S = [1, 4, 3, 0, 7, 2, 6, 5]\n",
      "\n",
      "Tại i = 6 , j = 2\n",
      "S = [1, 4, 6, 0, 7, 2, 3, 5]\n",
      "\n",
      "Tại i = 7 , j = 6\n",
      "S = [1, 4, 6, 0, 7, 2, 5, 3]\n",
      "\n",
      "Sau KSA có S = [1, 4, 6, 0, 7, 2, 5, 3]\n"
     ]
    }
   ],
   "source": [
    "MOD = 8\n",
    "\n",
    "K = [1,3,5,7]\n",
    "P = [2,3,4,5]\n",
    "print(\"Khóa: \", K)\n",
    "print(\"Plaintext: \", P)\n",
    "\n",
    "def KSA(key):\n",
    "    S = list(range(MOD))\n",
    "    print(\"Vector trạng thái ban đầu:\", S)\n",
    "    j = 0\n",
    "    key_length = len(key)\n",
    "    for i in range(MOD):\n",
    "        j = (j + S[i] + key[i % key_length]) % MOD\n",
    "        print(\"\\nTại i =\", i, \", j =\", j)\n",
    "        S[i],S[j] = S[j], S[i]\n",
    "        print(\"S =\", S)\n",
    "    return S\n",
    "S = KSA(K)\n",
    "print(\"\\nSau KSA có S =\", S)"
   ]
  },
  {
   "cell_type": "markdown",
   "id": "95bda6cf",
   "metadata": {},
   "source": [
    "<i>b. Pseudo-Random Generation Algorithm (PRGA) - Sinh keystream</i>\n",
    "\n",
    "Sinh dãy byte giả ngẫu nhiên từ mảng `S`.\n",
    "\n",
    "Mỗi byte keystream được XOR với 1 byte plaintext để mã hóa."
   ]
  },
  {
   "cell_type": "code",
   "execution_count": 2,
   "id": "82cf33f1",
   "metadata": {},
   "outputs": [
    {
     "name": "stdout",
     "output_type": "stream",
     "text": [
      "\n",
      "*** Lần  0 \n",
      "S = [1, 4, 6, 0, 7, 2, 5, 3]\n",
      "i = 1 và j = 4\n",
      "Sau khi hoán vị: S = [1, 7, 6, 0, 4, 2, 5, 3]\n",
      "t = 3\n",
      "Giá trị thu được: S[3] = 0\n",
      "\n",
      "*** Lần  1 \n",
      "S = [1, 7, 6, 0, 4, 2, 5, 3]\n",
      "i = 2 và j = 2\n",
      "Sau khi hoán vị: S = [1, 7, 6, 0, 4, 2, 5, 3]\n",
      "t = 4\n",
      "Giá trị thu được: S[4] = 4\n",
      "\n",
      "*** Lần  2 \n",
      "S = [1, 7, 6, 0, 4, 2, 5, 3]\n",
      "i = 3 và j = 2\n",
      "Sau khi hoán vị: S = [1, 7, 0, 6, 4, 2, 5, 3]\n",
      "t = 6\n",
      "Giá trị thu được: S[6] = 5\n",
      "\n",
      "*** Lần  3 \n",
      "S = [1, 7, 0, 6, 4, 2, 5, 3]\n",
      "i = 4 và j = 6\n",
      "Sau khi hoán vị: S = [1, 7, 0, 6, 5, 2, 4, 3]\n",
      "t = 1\n",
      "Giá trị thu được: S[1] = 7\n",
      "\n",
      "Keystream:  [0, 4, 5, 7]\n"
     ]
    }
   ],
   "source": [
    "def PRGA(S_box):\n",
    "    i = 0\n",
    "    j = 0\n",
    "    S_copy = S_box[:]\n",
    "    k = []\n",
    "    for c in range(len(P)):\n",
    "        print(\"\\n*** Lần \", c, \"\\nS =\", S_copy)\n",
    "        i = (i + 1) % MOD\n",
    "        j = (j + S_copy[i]) % MOD\n",
    "        print(\"i =\", i, \"và j =\", j)\n",
    "        S_copy[i], S_copy[j] = S_copy[j], S_copy[i]\n",
    "        print(\"Sau khi hoán vị: S =\", S_copy)\n",
    "        t = (S_copy[i] + S_copy[j]) % MOD\n",
    "        print(\"t =\", t)\n",
    "        print(\"Giá trị thu được: S[{}] = {}\".format(t, S_copy[t]))\n",
    "        k.append(S_copy[t])\n",
    "    return k\n",
    "keystream = PRGA(S)\n",
    "print(\"\\nKeystream: \", keystream)"
   ]
  },
  {
   "cell_type": "code",
   "execution_count": 3,
   "id": "c0ace658",
   "metadata": {},
   "outputs": [
    {
     "name": "stdout",
     "output_type": "stream",
     "text": [
      "0 XOR 2 = 2\n",
      "4 XOR 3 = 7\n",
      "5 XOR 4 = 1\n",
      "7 XOR 5 = 2\n",
      "\n",
      "Ciphertext:  [2, 7, 1, 2]\n"
     ]
    }
   ],
   "source": [
    "def XOR(keystream, text):\n",
    "    c = []\n",
    "    for i in range(len(text)):\n",
    "        c.append(keystream[i] ^ text[i])\n",
    "        print(\"{} XOR {} = {}\".format(keystream[i], text[i], c[i]))\n",
    "    return c\n",
    "C = XOR(keystream, P)\n",
    "print(\"\\nCiphertext: \", C)"
   ]
  },
  {
   "cell_type": "code",
   "execution_count": 4,
   "id": "6f670abd",
   "metadata": {},
   "outputs": [
    {
     "name": "stdout",
     "output_type": "stream",
     "text": [
      "0 XOR 2 = 2\n",
      "4 XOR 7 = 3\n",
      "5 XOR 1 = 4\n",
      "7 XOR 2 = 5\n",
      "\n",
      "Decrypted Plaintext:  [2, 3, 4, 5]\n"
     ]
    }
   ],
   "source": [
    "P1 = XOR(keystream, C)\n",
    "print(\"\\nDecrypted Plaintext: \", P1)"
   ]
  },
  {
   "cell_type": "markdown",
   "id": "e76a220f",
   "metadata": {},
   "source": [
    "$\\Rightarrow$ Full code hệ mật RC4 cơ bản:"
   ]
  },
  {
   "cell_type": "code",
   "execution_count": 6,
   "id": "5ddfada6",
   "metadata": {},
   "outputs": [
    {
     "name": "stdout",
     "output_type": "stream",
     "text": [
      "Key Scheduling\n",
      "0 1 s0 [1, 0, 2, 3, 4, 5, 6, 7]\n",
      "1 4 s1 [1, 4, 2, 3, 0, 5, 6, 7]\n",
      "2 3 s2 [1, 4, 3, 2, 0, 5, 6, 7]\n",
      "3 4 s3 [1, 4, 3, 0, 2, 5, 6, 7]\n",
      "4 7 s4 [1, 4, 3, 0, 7, 5, 6, 2]\n",
      "5 7 s5 [1, 4, 3, 0, 7, 2, 6, 5]\n",
      "6 2 s6 [1, 4, 6, 0, 7, 2, 3, 5]\n",
      "7 6 s7 [1, 4, 6, 0, 7, 2, 5, 3]\n",
      "Encrypt: \n",
      "1 4 [1, 7, 6, 0, 4, 2, 5, 3] 0\n",
      "2 2 [1, 7, 6, 0, 4, 2, 5, 3] 4\n",
      "3 2 [1, 7, 0, 6, 4, 2, 5, 3] 5\n",
      "4 6 [1, 7, 0, 6, 5, 2, 4, 3] 7\n",
      "Ciphertext: 2712\n",
      "\n",
      "\n",
      "Key Scheduling\n",
      "0 1 s0 [1, 0, 2, 3, 4, 5, 6, 7]\n",
      "1 4 s1 [1, 4, 2, 3, 0, 5, 6, 7]\n",
      "2 3 s2 [1, 4, 3, 2, 0, 5, 6, 7]\n",
      "3 4 s3 [1, 4, 3, 0, 2, 5, 6, 7]\n",
      "4 7 s4 [1, 4, 3, 0, 7, 5, 6, 2]\n",
      "5 7 s5 [1, 4, 3, 0, 7, 2, 6, 5]\n",
      "6 2 s6 [1, 4, 6, 0, 7, 2, 3, 5]\n",
      "7 6 s7 [1, 4, 6, 0, 7, 2, 5, 3]\n",
      "Encrypt: \n",
      "1 4 [1, 7, 6, 0, 4, 2, 5, 3] 0\n",
      "2 2 [1, 7, 6, 0, 4, 2, 5, 3] 4\n",
      "3 2 [1, 7, 0, 6, 4, 2, 5, 3] 5\n",
      "4 6 [1, 7, 0, 6, 5, 2, 4, 3] 7\n",
      "Decrypted text: 2345\n"
     ]
    }
   ],
   "source": [
    "def ksa(key):\n",
    "    print('Key Scheduling')\n",
    "    key_length = len(key)\n",
    "    S = list(range(8))\n",
    "    j = 0\n",
    "    for i in range(8):\n",
    "        j = (j + S[i] + key[i % key_length]) % 8\n",
    "        S[i], S[j] = S[j], S[i]\n",
    "        print(i, j, 's{}'.format(i), S)\n",
    "    return S\n",
    "\n",
    "def prga(S):\n",
    "    print('Encrypt: ')\n",
    "    i = 0\n",
    "    j = 0\n",
    "    while True:\n",
    "        i = (i + 1) % 8\n",
    "        j = (j + S[i]) % 8\n",
    "        temp = S[i]\n",
    "        S[i] = S[j]\n",
    "        S[j] = temp\n",
    "        # print(S)\n",
    "        K = S[(S[i] + S[j]) % 8]\n",
    "        print(i, j, S, K)\n",
    "        yield K\n",
    "\n",
    "\n",
    "def rc4(key, plaintext):\n",
    "    key = [ord(c) for c in key]\n",
    "    S = ksa(key)\n",
    "    keystream = prga(S)\n",
    "    ciphertext = [chr(ord(c) ^ next(keystream)) for c in plaintext]\n",
    "    return ''.join(ciphertext)\n",
    "\n",
    "key = \"1357\"\n",
    "plaintext = \"2345\"\n",
    "ciphertext = rc4(key, plaintext)\n",
    "print(f\"Ciphertext: {ciphertext}\\n\\n\")\n",
    "\n",
    "decrypted_text = rc4(key, ciphertext)\n",
    "print(f\"Decrypted text: {decrypted_text}\")"
   ]
  },
  {
   "cell_type": "markdown",
   "id": "bb3b6291",
   "metadata": {},
   "source": [
    "<strong>RC4 đầy đủ</strong>"
   ]
  },
  {
   "cell_type": "code",
   "execution_count": null,
   "id": "c4cfdfcd",
   "metadata": {},
   "outputs": [
    {
     "name": "stdout",
     "output_type": "stream",
     "text": [
      "\n",
      "\n",
      "Ciphertext (hex): E8FB954F2028A64D0E7CB0ADC125F1D2E5FD9F3F76DD6AFF\n",
      "\n",
      "\n",
      "Decrypted text: DAI HOC BACH KHOA HA NOI\n"
     ]
    }
   ],
   "source": [
    "MOD = 256\n",
    "\n",
    "def Full_KSA(key):\n",
    "    S = list(range(MOD))\n",
    "    j = 0\n",
    "    key_length = len(key)\n",
    "    for i in range(MOD):\n",
    "        j = (j + S[i] + key[i % key_length]) % MOD\n",
    "        S[i], S[j] = S[j], S[i]\n",
    "    return S\n",
    "\n",
    "def Full_PRGA(S):\n",
    "    i = 0\n",
    "    j = 0\n",
    "    while True:\n",
    "        i = (i + 1) % MOD\n",
    "        j = (j + S[i]) % MOD\n",
    "        S[i], S[j] = S[j], S[i]\n",
    "        t = (S[i] + S[j]) % MOD\n",
    "        k = S[t]\n",
    "        yield k\n",
    "\n",
    "def RC4(key, text):\n",
    "    key = [ord(c) for c in key]\n",
    "    \n",
    "    S = Full_KSA(key)\n",
    "    \n",
    "    keystream = Full_PRGA(S)\n",
    "    \n",
    "    result = []\n",
    "    for c in text:\n",
    "        val = c ^ next(keystream)\n",
    "        result.append(val)\n",
    "    return bytes(result)\n",
    "\n",
    "def encrypt(key, plaintext):\n",
    "    if not plaintext:\n",
    "        return \"Văn bản không được để trống.\"\n",
    "        \n",
    "    plaintext_bytes = [ord(c) for c in plaintext]\n",
    "    return RC4(key, plaintext_bytes)\n",
    "\n",
    "def decrypt(key, ciphertext):\n",
    "    return RC4(key, ciphertext)\n",
    "\n",
    "key = input(\"Nhập key: \") #Hello World\n",
    "plaintext = input(\"Nhập văn bản cần mã hóa: \") #DAI HOC BACH KHOA HA NOI\n",
    "\n",
    "ciphertext = encrypt(key, plaintext)\n",
    "print(\"\\n\\nCiphertext (hex):\", ciphertext.hex().upper()) \n",
    "\n",
    "decrypted_text = decrypt(key, ciphertext)\n",
    "print(\"\\n\\nDecrypted text:\", decrypted_text.decode('utf-8'))  "
   ]
  }
 ],
 "metadata": {
  "kernelspec": {
   "display_name": "Python 3",
   "language": "python",
   "name": "python3"
  },
  "language_info": {
   "codemirror_mode": {
    "name": "ipython",
    "version": 3
   },
   "file_extension": ".py",
   "mimetype": "text/x-python",
   "name": "python",
   "nbconvert_exporter": "python",
   "pygments_lexer": "ipython3",
   "version": "3.11.4"
  }
 },
 "nbformat": 4,
 "nbformat_minor": 5
}
